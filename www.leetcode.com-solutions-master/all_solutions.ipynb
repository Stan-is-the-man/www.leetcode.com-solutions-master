{
 "cells": [
  {
   "cell_type": "code",
   "execution_count": 5,
   "metadata": {
    "collapsed": true
   },
   "outputs": [],
   "source": [
    "    # For submitting in www.leetcode.com use only the body of the function(not the name or the example)\n",
    "\n",
    "#258. Add Digits\n",
    "\n",
    "# def addDigits(num: int):\n",
    "#     while num > 9:\n",
    "#         new = [int(x) for x in str(num)]\n",
    "#         sum_list = sum(new)\n",
    "#         num = sum_list\n",
    "#\n",
    "#     return num\n",
    "#\n",
    "# a = addDigits(38)\n",
    "# print(a)"
   ]
  },
  {
   "cell_type": "code",
   "execution_count": 1,
   "outputs": [],
   "source": [
    "#235. Add Two Integers\n",
    "\n",
    "def sum(num1: int, num2: int):\n",
    "    return num1 + num2"
   ],
   "metadata": {
    "collapsed": false
   }
  },
  {
   "cell_type": "code",
   "execution_count": 2,
   "outputs": [],
   "source": [
    "#415. Add Strings\n",
    "class Solution:\n",
    "    def addStrings(self, num1: str, num2: str) -> str:\n",
    "        return str(int(num1) + int(num2))\n"
   ],
   "metadata": {
    "collapsed": false
   }
  },
  {
   "cell_type": "code",
   "execution_count": 11,
   "outputs": [
    {
     "name": "stdout",
     "output_type": "stream",
     "text": [
      "True\n"
     ]
    }
   ],
   "source": [
    "# 9. Palindrome Number\n",
    "def is_palindrome(x: int):\n",
    "    a = str(x)\n",
    "    b = a[::-1]\n",
    "    if a == b:\n",
    "        return True\n",
    "    return False\n",
    "\n",
    "\n",
    "a = is_palindrome(126621)\n",
    "print(a)"
   ],
   "metadata": {
    "collapsed": false
   }
  },
  {
   "cell_type": "code",
   "execution_count": 15,
   "outputs": [
    {
     "name": "stdout",
     "output_type": "stream",
     "text": [
      "2\n"
     ]
    }
   ],
   "source": [
    "# 27. Remove Element\n",
    "def removeElement(nums, val: int):\n",
    "    while val in nums:\n",
    "        nums.remove(val)\n",
    "    return len(nums)\n",
    "\n",
    "\n",
    "z = [3, 2, 2, 3]\n",
    "a = removeElement(z, 3)\n",
    "print(a)"
   ],
   "metadata": {
    "collapsed": false
   }
  },
  {
   "cell_type": "code",
   "execution_count": 2,
   "outputs": [
    {
     "name": "stdout",
     "output_type": "stream",
     "text": [
      "\n",
      "fl\n"
     ]
    }
   ],
   "source": [
    "#14. Longest Common Prefix\n",
    "\n",
    "def longest_commonPrefix(strs):\n",
    "    strs = sorted(strs, key=len)\n",
    "    to_compare = strs[0]\n",
    "    index_match = 0\n",
    "    missmatch = False\n",
    "\n",
    "    for index, value in enumerate(to_compare):\n",
    "        current_match = 0\n",
    "        for x in range(len(strs)):\n",
    "            a = strs[x][index]\n",
    "            if value != a:\n",
    "                missmatch = True\n",
    "                break\n",
    "            if missmatch:\n",
    "                break\n",
    "            current_match += 1\n",
    "        if current_match == len(strs):\n",
    "            index_match += 1\n",
    "\n",
    "    return to_compare[:index_match]\n",
    "\n",
    "\n",
    "a = longest_commonPrefix([\"flower\", \"flow\", \"flight\"])\n",
    "print(a)\n"
   ],
   "metadata": {
    "collapsed": false
   }
  },
  {
   "cell_type": "code",
   "execution_count": 3,
   "outputs": [
    {
     "name": "stdout",
     "output_type": "stream",
     "text": [
      "True\n"
     ]
    }
   ],
   "source": [
    "# 20. Valid Parentheses - NOT FULLL !!!!!!!\n",
    "def is_valid(s: str):\n",
    "    if \"(\" in s and \")\" in s:\n",
    "        s = s.replace(\"(\", '', 1)\n",
    "        s = s.replace(\")\", '', 1)\n",
    "\n",
    "    if \"[\" in s and \"]\" in s:\n",
    "        s = s.replace(\"[\", '', 1)\n",
    "        s = s.replace(\"]\", '', 1)\n",
    "\n",
    "    if \"{\" in s and \"}\" in s:\n",
    "        s = s.replace(\"{\", '', 1)\n",
    "        s = s.replace(\"}\", '', 1)\n",
    "\n",
    "    if len(s) == 0:\n",
    "        return True\n",
    "\n",
    "    return False\n",
    "\n",
    "\n",
    "a = \")(\"\n",
    "a = is_valid(a)\n",
    "print(a)"
   ],
   "metadata": {
    "collapsed": false
   }
  },
  {
   "cell_type": "code",
   "execution_count": 4,
   "outputs": [
    {
     "name": "stdout",
     "output_type": "stream",
     "text": [
      "-1\n"
     ]
    }
   ],
   "source": [
    "# 35. Search Insert Position\n",
    "def str_str(haystack: str, needle: str):\n",
    "    for index in range(0, len(haystack) - len(needle) + 1):\n",
    "        current = ''\n",
    "        for x in range(index, index + len(needle)):\n",
    "            current += haystack[x]\n",
    "        if current == needle:\n",
    "            return index\n",
    "    return -1\n",
    "\n",
    "\n",
    "haystack1 = \"asasutad\"\n",
    "needle1 = \"sad\"\n",
    "a = str_str(haystack1, needle1)\n",
    "print(a)\n"
   ],
   "metadata": {
    "collapsed": false
   }
  },
  {
   "cell_type": "code",
   "execution_count": 6,
   "outputs": [
    {
     "name": "stdout",
     "output_type": "stream",
     "text": [
      "4\n"
     ]
    }
   ],
   "source": [
    "# 58. Length of Last Word\n",
    "\n",
    "def searchInsert(nums, target: int):\n",
    "    for x in range(len(nums)):\n",
    "        if nums[x] == target:\n",
    "            return x\n",
    "\n",
    "    for x in range(len(nums)):\n",
    "        if x == 0 and target < nums[x]:\n",
    "            return x\n",
    "        if x == len(nums) - 1 and target > nums[x]:\n",
    "            return x + 1\n",
    "        if nums[x] < target < nums[x + 1]:\n",
    "            return x + 1\n",
    "\n",
    "\n",
    "nums = [1, 3, 5, 6]\n",
    "target = 7\n",
    "a = searchInsert(nums, target)\n",
    "print(a)"
   ],
   "metadata": {
    "collapsed": false
   }
  },
  {
   "cell_type": "code",
   "execution_count": 7,
   "outputs": [
    {
     "name": "stdout",
     "output_type": "stream",
     "text": [
      "6\n"
     ]
    }
   ],
   "source": [
    "# 66. Plus One\n",
    "\n",
    "def lengthOfLastWord(s: str):\n",
    "    list_of_words = s.split(' ')\n",
    "    new_list = [x for x in list_of_words if x != '']\n",
    "    new_list.reverse()\n",
    "    for word in new_list:\n",
    "        return len(word)\n",
    "\n",
    "\n",
    "s = \"luffy is still joyboy\"\n",
    "a = lengthOfLastWord(s)\n",
    "print(a)\n"
   ],
   "metadata": {
    "collapsed": false
   }
  },
  {
   "cell_type": "code",
   "execution_count": 9,
   "outputs": [
    {
     "name": "stdout",
     "output_type": "stream",
     "text": [
      "[4, 3, 2, 2]\n"
     ]
    }
   ],
   "source": [
    "# 66. Plus One\n",
    "\n",
    "def plus_one(digits):\n",
    "    digits = [str(x) for x in digits]\n",
    "    num = ''.join(digits)\n",
    "    new_str = str(int(num) + 1)\n",
    "    result = [int(x) for x in new_str]\n",
    "    return result\n",
    "\n",
    "\n",
    "a = [4, 3, 2, 1]\n",
    "b = plus_one(a)\n",
    "print(b)\n"
   ],
   "metadata": {
    "collapsed": false
   }
  },
  {
   "cell_type": "code",
   "execution_count": 2,
   "outputs": [
    {
     "name": "stdout",
     "output_type": "stream",
     "text": [
      "['ad', 'ae', 'af', 'bd', 'be', 'bf', 'cd', 'ce', 'cf']\n"
     ]
    }
   ],
   "source": [
    "# unknown - page 13\n",
    "\n",
    "def letter_combinations(digits: str):\n",
    "    my_dict = {\n",
    "        '2': 'abc',\n",
    "        '3': 'def',\n",
    "        '4': 'ghi',\n",
    "        '5': 'jkl',\n",
    "        '6': 'mno',\n",
    "        '7': 'pqrs',\n",
    "        '8': 'tuv',\n",
    "        '9': 'wxyz',\n",
    "    }\n",
    "    split = [x for x in digits]\n",
    "    final = []\n",
    "\n",
    "    for sym in my_dict[digits[0]]:\n",
    "        for sym2 in my_dict[digits[1]]:\n",
    "            current = ''\n",
    "            current += sym\n",
    "            current += sym2\n",
    "            final.append(current)\n",
    "    return final\n",
    "\n",
    "\n",
    "a = \"23\"\n",
    "b = letter_combinations(a)\n",
    "print(b)\n"
   ],
   "metadata": {
    "collapsed": false
   }
  },
  {
   "cell_type": "code",
   "execution_count": 3,
   "outputs": [
    {
     "name": "stdout",
     "output_type": "stream",
     "text": [
      "7\n"
     ]
    }
   ],
   "source": [
    "# 2441. Largest Positive Integer That Exists With Its Negative\n",
    "\n",
    "def find_max_with_negative_one(nums: list):\n",
    "    num = -1\n",
    "    sorted_desc_list = sorted(nums)[:: -1]\n",
    "    for i in sorted_desc_list:\n",
    "        if i > 0 and - i in sorted_desc_list:\n",
    "            num = i\n",
    "            break\n",
    "    return num\n",
    "\n",
    "\n",
    "a = [-1, 10, 6, 7, -7, 1]\n",
    "b = find_max_with_negative_one(a)\n",
    "print(b)\n"
   ],
   "metadata": {
    "collapsed": false
   }
  },
  {
   "cell_type": "code",
   "execution_count": 4,
   "outputs": [
    {
     "name": "stdout",
     "output_type": "stream",
     "text": [
      "False\n"
     ]
    }
   ],
   "source": [
    "# # 2446. Determine if Two Events Have Conflict\n",
    "def have_conflict(event1: list, event2: list):\n",
    "    split1 = event1[0].split(\":\")\n",
    "    split2 = event1[1].split(\":\")\n",
    "    e1_start_in_secs = (int(split1[0]) * 60) + int(split1[1])\n",
    "    e1_end_in_secs = (int(split2[0]) * 60) + int(split2[1])\n",
    "\n",
    "    split1_1 = event2[0].split(\":\")\n",
    "    split2_2 = event2[1].split(\":\")\n",
    "    e2_start_in_secs = (int(split1_1[0]) * 60) + int(split1_1[1])\n",
    "    e2_end_in_secs = (int(split2_2[0]) * 60) + int(split2_2[1])\n",
    "\n",
    "    if e1_start_in_secs >= e2_start_in_secs:\n",
    "        if e2_end_in_secs >= e1_start_in_secs:\n",
    "            return True\n",
    "        else:\n",
    "            return False\n",
    "\n",
    "    if e1_end_in_secs >= e2_start_in_secs:\n",
    "        return True\n",
    "\n",
    "    return False\n",
    "\n",
    "\n",
    "event1 = [\"14:13\", \"22:08\"]\n",
    "event2 = [\"02:40\", \"08:08\"]\n",
    "a = have_conflict(event1, event2)\n",
    "print(a)"
   ],
   "metadata": {
    "collapsed": false
   }
  },
  {
   "cell_type": "code",
   "execution_count": 5,
   "outputs": [
    {
     "name": "stdout",
     "output_type": "stream",
     "text": [
      "Binary tree from list :\n",
      " \n",
      "    ___3\n",
      "   /    \\\n",
      "  6      8\n",
      " / \\      \\\n",
      "2   11     13\n",
      "\n",
      "\n",
      "List from binary tree : [3, 6, 8, 2, 11, None, 13]\n"
     ]
    }
   ],
   "source": [],
   "metadata": {
    "collapsed": false
   }
  },
  {
   "cell_type": "code",
   "execution_count": 6,
   "outputs": [
    {
     "name": "stdout",
     "output_type": "stream",
     "text": [
      "-1\n"
     ]
    }
   ],
   "source": [
    "# 997. Find the Town Judge\n",
    "\n",
    "def find_judge(n, trust):\n",
    "    judge = - 1\n",
    "    people_who_trust_to = [0 for x in range(n + 1)]\n",
    "    trusted = [0 for z in range(n + 1)]\n",
    "\n",
    "    for relationship in trust:\n",
    "        people_who_trust_to[relationship[0]] += 1\n",
    "        trusted[relationship[1]] += 1\n",
    "\n",
    "    for num in range(1, n + 1):\n",
    "        if people_who_trust_to[num] == 0 and trusted[num] == n - 1:\n",
    "            people_who_trust_to[0] = 100\n",
    "            judge = people_who_trust_to.index(0)\n",
    "    return judge\n",
    "\n",
    "\n",
    "n = 3\n",
    "trust = [[1, 3], [2, 3], [3, 1]]\n",
    "\n",
    "print(find_judge(n, trust))"
   ],
   "metadata": {
    "collapsed": false
   }
  },
  {
   "cell_type": "code",
   "execution_count": 2,
   "outputs": [
    {
     "data": {
      "text/plain": "7"
     },
     "execution_count": 2,
     "metadata": {},
     "output_type": "execute_result"
    }
   ],
   "source": [
    "4 + 2 ** 5 // 10"
   ],
   "metadata": {
    "collapsed": false
   }
  },
  {
   "cell_type": "code",
   "execution_count": 4,
   "outputs": [
    {
     "data": {
      "text/plain": "'0b1000'"
     },
     "execution_count": 4,
     "metadata": {},
     "output_type": "execute_result"
    }
   ],
   "source": [
    "bin(0x8)"
   ],
   "metadata": {
    "collapsed": false
   }
  },
  {
   "cell_type": "code",
   "execution_count": 1,
   "outputs": [
    {
     "data": {
      "text/plain": "True"
     },
     "execution_count": 1,
     "metadata": {},
     "output_type": "execute_result"
    }
   ],
   "source": [
    "example = \"waterworld\"\n",
    "example[::-1].startswith(\"d\")"
   ],
   "metadata": {
    "collapsed": false
   }
  },
  {
   "cell_type": "code",
   "execution_count": null,
   "outputs": [],
   "source": [],
   "metadata": {
    "collapsed": false
   }
  },
  {
   "cell_type": "code",
   "execution_count": 1,
   "outputs": [
    {
     "name": "stdout",
     "output_type": "stream",
     "text": [
      "Personal Details\n",
      "Name: stan\n",
      "Age: 38\n",
      "Gender: Male\n",
      "Account balance has been updated: $ 45 available\n",
      "Account balance after withdraw: $ 5 available\n"
     ]
    }
   ],
   "source": [
    "class User():\n",
    "    def __init__(self, name, age, gender):\n",
    "        self.name = name\n",
    "        self.age = age\n",
    "        self.gender = gender\n",
    "\n",
    "    def show_details(self):\n",
    "        print(f'Personal Details\\nName: {self.name}\\nAge: {self.age}\\nGender: {self.gender}')\n",
    "\n",
    "\n",
    "class UserFunctions(User):\n",
    "    def __init__(self, name, age, gender):\n",
    "        super().__init__(name, age, gender)\n",
    "        self.balance = 0\n",
    "\n",
    "    def deposit(self, amount):\n",
    "        self.balance += amount\n",
    "        print(f\"Account balance has been updated: $ {self.balance} available\")\n",
    "        return self.balance\n",
    "\n",
    "    def withdraw(self, amount):\n",
    "        if amount > self.balance:\n",
    "            print(f\"Unsufficient funds. Balance: ${self.balance} available\")\n",
    "        else:\n",
    "            self.balance -= amount\n",
    "            print(f\"Account balance after withdraw: $ {self.balance} available\")\n",
    "\n",
    "\n",
    "stan = UserFunctions(\"stan\", 38, 'Male')\n",
    "stan.show_details()\n",
    "stan.deposit(45)\n",
    "stan.withdraw(40)\n",
    "\n",
    "\n"
   ],
   "metadata": {
    "collapsed": false
   }
  },
  {
   "cell_type": "code",
   "execution_count": 3,
   "outputs": [
    {
     "name": "stdout",
     "output_type": "stream",
     "text": [
      "5\n"
     ]
    }
   ],
   "source": [
    "# 121. Best Time to Buy and Sell Stock\n",
    "\n",
    "def max_profit(prices):\n",
    "    difference = 0\n",
    "    sorted_list = deque(sorted(prices))\n",
    "    while len(sorted_list) >= 2:\n",
    "        value_min = sorted_list[0]\n",
    "        value_max = sorted_list[-1]\n",
    "        index_min = prices.index(value_min)\n",
    "        index_max = prices.index(value_max)\n",
    "        if index_max > index_min and (value_max - value_min) > difference:\n",
    "            difference = value_max - value_min\n",
    "            sorted_list = deque(sorted(prices))\n",
    "            sorted_list.popleft()\n",
    "\n",
    "        else:\n",
    "            sorted_list.pop()\n",
    "    return difference\n",
    "\n",
    "\n",
    "a = [7, 1, 5, 3, 6, 4]\n",
    "b = max_profit(a)\n",
    "print(b)\n"
   ],
   "metadata": {
    "collapsed": false
   }
  },
  {
   "cell_type": "code",
   "execution_count": 5,
   "outputs": [
    {
     "name": "stdout",
     "output_type": "stream",
     "text": [
      "21\n"
     ]
    }
   ],
   "source": [
    "# Fibonachi Reccursive\n",
    "\n",
    "def Fibonacci(n):\n",
    "    # Check if input is 0 then it will\n",
    "    # print incorrect input\n",
    "    if n < 0:\n",
    "        print(\"Incorrect input\")\n",
    "\n",
    "    # Check if n is 0\n",
    "    # then it will return 0\n",
    "    elif n == 0:\n",
    "        return 0\n",
    "\n",
    "    # Check if n is 1,2\n",
    "    # it will return 1\n",
    "    elif n == 1 or n == 2:\n",
    "        return 1\n",
    "\n",
    "    else:\n",
    "        return Fibonacci(n - 1) + Fibonacci(n - 2)\n",
    "\n",
    "\n",
    "print(Fibonacci(8))"
   ],
   "metadata": {
    "collapsed": false
   }
  },
  {
   "cell_type": "code",
   "execution_count": 6,
   "outputs": [
    {
     "name": "stdout",
     "output_type": "stream",
     "text": [
      "-63\n"
     ]
    }
   ],
   "source": [
    "# 682. Baseball Game\n",
    "def baseball_points(operations):\n",
    "    result = []\n",
    "\n",
    "    for x in operations:\n",
    "        if x.isdigit():\n",
    "            result.append(int(x))\n",
    "            continue\n",
    "        if len(x) > 1:\n",
    "            question = x.lstrip('-')\n",
    "            result.append(- int(question))\n",
    "        if x == '+':\n",
    "            sum_of_last_two = result[-1] + result[-2]\n",
    "            result.append(sum_of_last_two)\n",
    "        if x == 'D':\n",
    "            result.append(result[-1] * 2)\n",
    "        if x == 'C':\n",
    "            result.pop()\n",
    "\n",
    "    return sum(result)\n",
    "\n",
    "\n",
    "print(baseball_points([\"-21\", \"-66\", \"39\", \"+\", \"+\"]))\n"
   ],
   "metadata": {
    "collapsed": false
   }
  },
  {
   "cell_type": "code",
   "execution_count": 7,
   "outputs": [
    {
     "name": "stdout",
     "output_type": "stream",
     "text": [
      "abbdcfdhe\n"
     ]
    }
   ],
   "source": [
    "# 1844. Replace All Digits with Characters\n",
    "# print(ord('a'))\n",
    "# print(chr(101))\n",
    "\n",
    "def replace_digits_by_certain_formula(s: str):\n",
    "    # For example, shift('a', 5) = 'f'.\n",
    "    final_str = ''\n",
    "    for x in range(len(s)):\n",
    "        curent_sumbol = s[x]\n",
    "        if curent_sumbol.isalpha():\n",
    "            final_str += s[x]\n",
    "        if curent_sumbol.isdigit():\n",
    "            str_to_digit = int(curent_sumbol)\n",
    "            previous_char = ord(s[x - 1])\n",
    "            char = chr(previous_char + str_to_digit)\n",
    "            final_str += char\n",
    "    return final_str\n",
    "\n",
    "\n",
    "print(replace_digits_by_certain_formula(\"a1b2c3d4e\"))"
   ],
   "metadata": {
    "collapsed": false
   }
  },
  {
   "cell_type": "code",
   "execution_count": 1,
   "outputs": [
    {
     "name": "stdout",
     "output_type": "stream",
     "text": [
      "5 and [1, 2, 2]\n"
     ]
    }
   ],
   "source": [
    "# 135. Candy __\n",
    "def candy(ratings):\n",
    "    result = [1] * len(ratings)\n",
    "    for x in range(len(ratings)):\n",
    "        if x == 0:\n",
    "            if ratings[x] > ratings[x + 1]:\n",
    "                result[x] += 1\n",
    "\n",
    "        else:\n",
    "            if ratings[x - 1] < ratings[x]:\n",
    "                result[x] += 1\n",
    "\n",
    "            if ratings[x - 1] == ratings[x] and result[x] == result[x - 1]:\n",
    "                result[x] += 1\n",
    "\n",
    "    return f\"{sum(result)} and {result}\"\n",
    "\n",
    "\n",
    "print(candy([1, 2, 3]))\n"
   ],
   "metadata": {
    "collapsed": false
   }
  },
  {
   "cell_type": "code",
   "execution_count": 2,
   "outputs": [
    {
     "name": "stdout",
     "output_type": "stream",
     "text": [
      "3\n"
     ]
    }
   ],
   "source": [
    "# 2586. Count the Number of Vowel Strings in Range\n",
    "def vowel_strings(words, left: int, right: int):\n",
    "    vowel_strings = 0\n",
    "    vowels = ['a', 'e', 'i', 'o', 'u']\n",
    "\n",
    "    for x in range(left, right + 1):\n",
    "        if words[x][0] in vowels and words[x][-1] in vowels:\n",
    "            vowel_strings += 1\n",
    "\n",
    "    return vowel_strings\n",
    "\n",
    "\n",
    "print(vowel_strings([\"hey\", \"aeo\", \"mu\", \"ooo\", \"artro\"], 1, 4))\n"
   ],
   "metadata": {
    "collapsed": false
   }
  },
  {
   "cell_type": "code",
   "execution_count": 3,
   "outputs": [],
   "source": [
    "# 225. Implement Stack using Queues\n",
    "class MyStack:\n",
    "\n",
    "    def __init__(self):\n",
    "        self.stack = []\n",
    "\n",
    "    def push(self, x: int) -> None:\n",
    "        self.stack.append(x)\n",
    "\n",
    "    def pop(self) -> int:\n",
    "        return self.stack.pop()\n",
    "\n",
    "    def top(self) -> int:\n",
    "        return self.stack[-1]\n",
    "\n",
    "    def empty(self) -> bool:\n",
    "        if len(self.stack) == 0:\n",
    "            return True\n",
    "        return False"
   ],
   "metadata": {
    "collapsed": false
   }
  },
  {
   "cell_type": "code",
   "execution_count": 4,
   "outputs": [
    {
     "name": "stdout",
     "output_type": "stream",
     "text": [
      "[5, 4, 3, 1, 1, 2, 2, 2]\n"
     ]
    }
   ],
   "source": [
    "# 1636. Sort Array by Increasing Frequency\n",
    "def frequency(nums):\n",
    "    freq = {}\n",
    "    result = []\n",
    "\n",
    "    for x in nums:\n",
    "        if x not in freq:\n",
    "            freq[x] = 0\n",
    "        freq[x] += 1\n",
    "\n",
    "    sorted_freq = dict(sorted(freq.items(), key=lambda x: (x[1], - x[0])))\n",
    "    for key, value in sorted_freq.items():\n",
    "        for x in range(value):\n",
    "            result.append(key)\n",
    "    return result\n",
    "\n",
    "\n",
    "print(frequency([1, 1, 2, 2, 2, 3, 4, 5]))\n"
   ],
   "metadata": {
    "collapsed": false
   }
  },
  {
   "cell_type": "code",
   "execution_count": 5,
   "outputs": [
    {
     "name": "stdout",
     "output_type": "stream",
     "text": [
      "1\n"
     ]
    }
   ],
   "source": [
    "# 2605. Form Smallest Number From Two Digit Arrays\n",
    "import sys\n",
    "\n",
    "\n",
    "def smallest_num(nums1, nums2):\n",
    "    smallest_num1 = sys.maxsize\n",
    "    smallest_list = []\n",
    "    smallest_num2 = ''\n",
    "\n",
    "    nums1_sort = sorted(nums1)\n",
    "    nums2_sort = sorted(nums2)\n",
    "\n",
    "    for num in nums1_sort:\n",
    "        if num in nums2_sort:\n",
    "            smallest_num1 = num\n",
    "            break\n",
    "\n",
    "    smallest_list.append(nums1_sort[0])\n",
    "    smallest_list.append(nums2_sort[0])\n",
    "\n",
    "    for x in smallest_list:\n",
    "        smallest_num2 += str(x)\n",
    "    if int(smallest_num2) < smallest_num1:\n",
    "        smallest_num1 = int(smallest_num2)\n",
    "    if int(smallest_num2[::-1]) < smallest_num1:\n",
    "        smallest_num1 = int(smallest_num2[::-1])\n",
    "\n",
    "    return smallest_num1\n",
    "\n",
    "\n",
    "print(smallest_num([6, 4, 3, 7, 2, 1, 8, 5], [6, 8, 5, 3, 1, 7, 4, 2]))\n"
   ],
   "metadata": {
    "collapsed": false
   }
  },
  {
   "cell_type": "code",
   "execution_count": 1,
   "outputs": [
    {
     "name": "stdout",
     "output_type": "stream",
     "text": [
      "[12, 10, 16, 13]\n",
      "[12, 5, 6, 13]\n"
     ]
    }
   ],
   "source": [
    "# 1652. Defuse the Bomb\n",
    "\n",
    "def decrypt(code, k):\n",
    "    bomb = deque(code)\n",
    "    new_code = []\n",
    "    if k >= 0:\n",
    "        for _ in range(len(bomb)):\n",
    "            bomb.rotate(-1)\n",
    "            the_sum = 0\n",
    "            for x in range(k):\n",
    "                the_sum += bomb[x]\n",
    "            new_code.append(the_sum)\n",
    "    else:\n",
    "        for _ in range(len(bomb)):\n",
    "            the_sum = 0\n",
    "            for x in range(-(k)):\n",
    "                the_sum += bomb[-(x + 1)]\n",
    "            bomb.rotate(-1)\n",
    "            new_code.append(the_sum)\n",
    "\n",
    "    return new_code\n",
    "\n",
    "\n",
    "print(decrypt([5, 7, 1, 4], 3))\n",
    "print(decrypt([2, 4, 9, 3], -2))\n"
   ],
   "metadata": {
    "collapsed": false
   }
  },
  {
   "cell_type": "code",
   "execution_count": 2,
   "outputs": [
    {
     "name": "stdout",
     "output_type": "stream",
     "text": [
      "9\n"
     ]
    }
   ],
   "source": [
    "# 441. Arranging Coins\n",
    "def arrange_coins(n: int):\n",
    "    the_sum = 0\n",
    "    the_last_row = 1\n",
    "    for x in range(1, n):\n",
    "        the_sum += x\n",
    "        if the_sum <= n:\n",
    "            the_last_row = x\n",
    "        else:\n",
    "            break\n",
    "    return the_last_row\n",
    "\n",
    "\n",
    "print(arrange_coins(45))"
   ],
   "metadata": {
    "collapsed": false
   }
  },
  {
   "cell_type": "code",
   "execution_count": 1,
   "outputs": [
    {
     "name": "stdout",
     "output_type": "stream",
     "text": [
      "['1', '2', 'Fizz', '4', 'Buzz']\n"
     ]
    }
   ],
   "source": [
    "# 412 FizzBuzz\n",
    "def fizzbuzz(n):\n",
    "    answer = []\n",
    "    for i in range(1, n + 1):\n",
    "        if i % 3 == 0 and i % 5 == 0:\n",
    "            answer.append(\"FizzBuzz\")\n",
    "        elif i % 3 == 0:\n",
    "            answer.append(\"Fizz\")\n",
    "        elif i % 5 == 0:\n",
    "            answer.append(\"Buzz\")\n",
    "        else:\n",
    "            answer.append(str(i))\n",
    "    return answer\n",
    "\n",
    "\n",
    "print(fizzbuzz(5))\n"
   ],
   "metadata": {
    "collapsed": false
   }
  },
  {
   "cell_type": "code",
   "execution_count": 1,
   "outputs": [
    {
     "name": "stdout",
     "output_type": "stream",
     "text": [
      "Total area: 45\n"
     ]
    }
   ],
   "source": [
    "# Reactangle overlaping\n",
    "def rectangle_area(ax1, ay1, ax2, ay2, bx1, by1, bx2, by2):\n",
    "    # Calculate the overlapping region\n",
    "    overlap_width = min(ax2, bx2) - max(ax1, bx1)\n",
    "    overlap_height = min(ay2, by2) - max(ay1, by1)\n",
    "\n",
    "    # Check if there is an overlap\n",
    "    if overlap_width > 0 and overlap_height > 0:\n",
    "        overlap_area = overlap_width * overlap_height\n",
    "    else:\n",
    "        overlap_area = 0\n",
    "\n",
    "    # Calculate the individual areas\n",
    "    area1 = (ax2 - ax1) * (ay2 - ay1)\n",
    "    area2 = (bx2 - bx1) * (by2 - by1)\n",
    "\n",
    "    # Calculate the total area\n",
    "    total_area = area1 + area2 - overlap_area\n",
    "\n",
    "    return total_area\n",
    "\n",
    "\n",
    "# Example usage\n",
    "# ax1, ay1 = 1, 1\n",
    "# ax2, ay2 = 5, 5\n",
    "# bx1, by1 = 3, 3\n",
    "# bx2, by2 = 7, -3\n",
    "ax1 = -3\n",
    "ay1 = 0\n",
    "ax2 = 3\n",
    "ay2 = 4\n",
    "bx1 = 0\n",
    "by1 = -1\n",
    "bx2 = 9\n",
    "by2 = 2\n",
    "\n",
    "total_area = rectangle_area(ax1, ay1, ax2, ay2, bx1, by1, bx2, by2)\n",
    "print(\"Total area:\", total_area)\n"
   ],
   "metadata": {
    "collapsed": false
   }
  },
  {
   "cell_type": "code",
   "execution_count": 3,
   "outputs": [
    {
     "name": "stdout",
     "output_type": "stream",
     "text": [
      "Total area: 17\n"
     ]
    }
   ],
   "source": [
    "# Rectangle overlap 2\n",
    "def rectangle_area(ax1, ay1, ax2, ay2, bx1, by1, bx2, by2):\n",
    "    overlapped_area = 0\n",
    "\n",
    "    # area1 = (abs(ax1) + abs(ax2)) * (abs(ay1) + abs(ay2))\n",
    "    # area2 = (abs(bx1) + abs(bx2)) * (abs(by1) + abs(by2))\n",
    "    area1 = (ax2 - ax1) * (ay2 - ay1)\n",
    "    area2 = (bx2 - bx1) * (by2 - by1)\n",
    "\n",
    "    max_left = max(ax1, bx1)\n",
    "    min_right = min(ax2, bx2)\n",
    "    width = min_right - max_left\n",
    "\n",
    "    max_up = max(ay1, by1)\n",
    "    min_down = min(ay2, by2)\n",
    "    height = min_down - max_up\n",
    "\n",
    "    if width > 0 and height > 0:\n",
    "        overlapped_area = height * width\n",
    "\n",
    "    total_area = (area1 + area2) - overlapped_area\n",
    "\n",
    "    return total_area\n",
    "\n",
    "\n",
    "ax1 = -2\n",
    "ay1 = -2\n",
    "ax2 = 2\n",
    "ay2 = 2\n",
    "bx1 = 3\n",
    "by1 = 3\n",
    "bx2 = 4\n",
    "by2 = 4\n",
    "totall_area = rectangle_area(ax1, ay1, ax2, ay2, bx1, by1, bx2, by2)\n",
    "print(\"Total area:\", totall_area)\n"
   ],
   "metadata": {
    "collapsed": false
   }
  },
  {
   "cell_type": "code",
   "execution_count": 4,
   "outputs": [
    {
     "name": "stdout",
     "output_type": "stream",
     "text": [
      "1\n"
     ]
    }
   ],
   "source": [
    "# 455. Assign Cookies\n",
    "from collections import deque\n",
    "\n",
    "\n",
    "def findcontentchildren(g, s):\n",
    "    children = deque(sorted(g))\n",
    "    cookies = deque(sorted(s))\n",
    "    total_kids_with_cookies = 0\n",
    "    while cookies and children:\n",
    "        if cookies[0] >= children[0]:\n",
    "            cookies.popleft()\n",
    "            children.popleft()\n",
    "            total_kids_with_cookies += 1\n",
    "        else:\n",
    "            cookies.popleft()\n",
    "    return total_kids_with_cookies\n",
    "\n",
    "\n",
    "g = [1, 2, 3]\n",
    "s = [1, 1]\n",
    "print(findcontentchildren(g, s))\n"
   ],
   "metadata": {
    "collapsed": false
   }
  },
  {
   "cell_type": "code",
   "execution_count": 5,
   "outputs": [
    {
     "name": "stdout",
     "output_type": "stream",
     "text": [
      "True\n"
     ]
    }
   ],
   "source": [
    "# 1941. Check if All Characters Have Equal Number of Occurrences\n",
    "def areoccurrencesEqual(s: str):\n",
    "    char_count = {}\n",
    "\n",
    "    for char in s:\n",
    "        if char not in char_count:\n",
    "            char_count[char] = 0\n",
    "        char_count[char] += 1\n",
    "\n",
    "    if len(set(char_count.values())) == 1:\n",
    "        return True\n",
    "\n",
    "    return False\n",
    "\n",
    "\n",
    "print(areoccurrencesEqual('aaabbb'))"
   ],
   "metadata": {
    "collapsed": false
   }
  },
  {
   "cell_type": "code",
   "execution_count": 6,
   "outputs": [
    {
     "name": "stdout",
     "output_type": "stream",
     "text": [
      "8\n"
     ]
    }
   ],
   "source": [
    "# 1945. Sum of Digits of String After Convert\n",
    "\n",
    "def getlucky(s: str, k: int):\n",
    "    alphabet = {\n",
    "        'a': 1,\n",
    "        'b': 2,\n",
    "        'c': 3,\n",
    "        'd': 4,\n",
    "        'e': 5,\n",
    "        'f': 6,\n",
    "        'g': 7,\n",
    "        'h': 8,\n",
    "        'i': 9,\n",
    "        'j': 10,\n",
    "        'k': 11,\n",
    "        'l': 12,\n",
    "        'm': 13,\n",
    "        'n': 14,\n",
    "        'o': 15,\n",
    "        'p': 16,\n",
    "        'q': 17,\n",
    "        'r': 18,\n",
    "        's': 19,\n",
    "        't': 20,\n",
    "        'u': 21,\n",
    "        'v': 22,\n",
    "        'w': 23,\n",
    "        'x': 24,\n",
    "        'y': 25,\n",
    "        'z': 26,\n",
    "    }\n",
    "\n",
    "    s_to_ints = ''\n",
    "    for symbol in s:\n",
    "        s_to_ints += str(alphabet[symbol])\n",
    "\n",
    "    for x in range(k):\n",
    "        current_num = 0\n",
    "        for char in s_to_ints:\n",
    "            current_num += int(char)\n",
    "\n",
    "        s_to_ints = str(current_num)\n",
    "\n",
    "    return current_num\n",
    "\n",
    "\n",
    "s = \"zbax\"\n",
    "v = 2\n",
    "\n",
    "print(getlucky(s, v))\n"
   ],
   "metadata": {
    "collapsed": false
   }
  },
  {
   "cell_type": "code",
   "execution_count": 7,
   "outputs": [
    {
     "name": "stdout",
     "output_type": "stream",
     "text": [
      "False\n"
     ]
    }
   ],
   "source": [
    "# 1952. Three Divisors\n",
    "\n",
    "def is_three(n: int):\n",
    "    counter = 0\n",
    "    for x in range(1, n + 1):\n",
    "        if n % x == 0:\n",
    "            counter += 1\n",
    "    if counter == 3:\n",
    "        return True\n",
    "    return False\n",
    "\n",
    "\n",
    "print(is_three(12))"
   ],
   "metadata": {
    "collapsed": false
   }
  },
  {
   "cell_type": "code",
   "execution_count": 9,
   "outputs": [
    {
     "name": "stdout",
     "output_type": "stream",
     "text": [
      "(0, 1)\n"
     ]
    }
   ],
   "source": [
    "# Task\n",
    "# You are given a string .\n",
    "# Your task is to find the indices of the start and end of string  in .\n",
    "\n",
    "first = input('Please enter the main string\\n')\n",
    "second = input('Please enter the str to be compared\\n')\n",
    "\n",
    "for x in range(len(first) - (len(second) - 1)):\n",
    "    current_to_compare = ''\n",
    "    indexes = []\n",
    "    current_x_index = x\n",
    "    for y in range(len(second)):\n",
    "        indexes.append(current_x_index)\n",
    "        current_x_index += 1\n",
    "        current_to_compare += first[x + y]\n",
    "\n",
    "    if current_to_compare == second:\n",
    "        print(tuple(indexes))\n"
   ],
   "metadata": {
    "collapsed": false
   }
  },
  {
   "cell_type": "code",
   "execution_count": 2,
   "outputs": [],
   "source": [
    "def comparetriplets(a, b):\n",
    "    new_list = [0, 0]\n",
    "    for x in range(len(a)):\n",
    "        if a[x] > b[x]:\n",
    "            new_list[0] += 1\n",
    "        if a[x] < b[x]:\n",
    "            new_list[1] += 1\n",
    "    return new_list"
   ],
   "metadata": {
    "collapsed": false
   }
  },
  {
   "cell_type": "code",
   "execution_count": 3,
   "outputs": [
    {
     "name": "stdout",
     "output_type": "stream",
     "text": [
      "Absolute difference between the sums of diagonals: 2\n"
     ]
    }
   ],
   "source": [
    "# Absolute difference of matrix diagonals: Given a square matrix, calculate the absolute difference between the sums of its diagonals.\n",
    "\n",
    "def diagonal_difference(matrix):\n",
    "    diagonal1_sum = 0\n",
    "    diagonal2_sum = 0\n",
    "    for i in range(len(matrix)):\n",
    "        diagonal1_sum += matrix[i][i]\n",
    "        diagonal2_sum += matrix[i][len(matrix) - i - 1]\n",
    "    absolute_difference = abs(diagonal1_sum - diagonal2_sum)\n",
    "\n",
    "    return absolute_difference\n",
    "\n",
    "\n",
    "matrix = [\n",
    "    [1, 2, 3],\n",
    "    [4, 5, 6],\n",
    "    [9, 8, 9]\n",
    "]\n",
    "\n",
    "difference = diagonal_difference(matrix)\n",
    "print(\"Absolute difference between the sums of diagonals:\", difference)"
   ],
   "metadata": {
    "collapsed": false
   }
  },
  {
   "cell_type": "code",
   "execution_count": 4,
   "outputs": [
    {
     "name": "stdout",
     "output_type": "stream",
     "text": [
      "True\n"
     ]
    }
   ],
   "source": [
    "def is_leap(year):\n",
    "    leap = False\n",
    "    if year % 4 == 0 and year % 100 != 0:\n",
    "        leap = True\n",
    "    if year % 4 == 0 and year % 100 == 0 and year % 400 == 0:\n",
    "        leap = True\n",
    "\n",
    "    return leap\n",
    "\n",
    "\n",
    "print(is_leap(2400))\n"
   ],
   "metadata": {
    "collapsed": false
   }
  },
  {
   "cell_type": "code",
   "execution_count": 5,
   "outputs": [
    {
     "name": "stdout",
     "output_type": "stream",
     "text": [
      "i-am-boy\n"
     ]
    }
   ],
   "source": [
    "def split_and_join(line):\n",
    "    a = line.split(' ')\n",
    "    a = '-'.join(a)\n",
    "    return a\n",
    "\n",
    "\n",
    "print(split_and_join('i am boy'))"
   ],
   "metadata": {
    "collapsed": false
   }
  },
  {
   "cell_type": "code",
   "execution_count": 6,
   "outputs": [
    {
     "ename": "ValueError",
     "evalue": "invalid literal for int() with base 10: ''",
     "output_type": "error",
     "traceback": [
      "\u001B[1;31m---------------------------------------------------------------------------\u001B[0m",
      "\u001B[1;31mValueError\u001B[0m                                Traceback (most recent call last)",
      "Cell \u001B[1;32mIn[6], line 1\u001B[0m\n\u001B[1;32m----> 1\u001B[0m n \u001B[38;5;241m=\u001B[39m \u001B[38;5;28;43mint\u001B[39;49m\u001B[43m(\u001B[49m\u001B[38;5;28;43minput\u001B[39;49m\u001B[43m(\u001B[49m\u001B[43m)\u001B[49m\u001B[43m)\u001B[49m\n\u001B[0;32m      2\u001B[0m my_list \u001B[38;5;241m=\u001B[39m []\n\u001B[0;32m      4\u001B[0m \u001B[38;5;28;01mfor\u001B[39;00m x \u001B[38;5;129;01min\u001B[39;00m \u001B[38;5;28mrange\u001B[39m(n):\n",
      "\u001B[1;31mValueError\u001B[0m: invalid literal for int() with base 10: ''"
     ]
    }
   ],
   "source": [
    "n = int(input())\n",
    "my_list = []\n",
    "\n",
    "for x in range(n):\n",
    "    command = input().split(' ')\n",
    "    action = command[0]\n",
    "    if action == 'insert':\n",
    "        my_list.insert(int(command[1]), int(command[2]))\n",
    "    elif action == 'print':\n",
    "        print(my_list)\n",
    "    elif action == 'remove':\n",
    "        my_list.remove(int(command[1]))\n",
    "    elif action == 'append':\n",
    "        my_list.append(int(command[1]))\n",
    "    elif action == 'sort':\n",
    "        my_list.sort()\n",
    "    elif action == 'pop':\n",
    "        my_list.pop()\n",
    "    elif action == 'reverse':\n",
    "        my_list = my_list[:: -1]"
   ],
   "metadata": {
    "collapsed": false
   }
  },
  {
   "cell_type": "code",
   "execution_count": 8,
   "outputs": [
    {
     "name": "stdout",
     "output_type": "stream",
     "text": [
      "abc\n"
     ]
    }
   ],
   "source": [
    "# Compressed string from HackerRank\n",
    "\n",
    "def compressedstring(message):\n",
    "    new_str = ''\n",
    "    counter = 1\n",
    "    last = False\n",
    "    for x in range(len(message)):\n",
    "        current = message[x]\n",
    "        if x == len(message) - 1:\n",
    "            if counter == 1:\n",
    "                new_str += message[x]\n",
    "            break\n",
    "        elif message[x] == message[x + 1]:\n",
    "            new_str += message[x]\n",
    "            counter += 1\n",
    "            if x == len(message) - 2:\n",
    "                new_str += str(counter)\n",
    "        elif message[x] != message[x + 1] and counter > 1:\n",
    "            new_str += str(counter)\n",
    "            counter = 1\n",
    "        else:\n",
    "            new_str += message[x]\n",
    "    return new_str\n",
    "print(compressedstring('abc'))\n",
    "# print(compressedstring('abaasass'))\n"
   ],
   "metadata": {
    "collapsed": false
   }
  },
  {
   "cell_type": "code",
   "execution_count": null,
   "outputs": [],
   "source": [
    "# Sort a list without a built in function\n",
    "my_list = [4, 8, 5, 2]\n",
    "sorted_list = []\n",
    "\n",
    "current_min = 0\n",
    "current_index = 0\n",
    "\n",
    "while my_list:\n",
    "    max_value = max(my_list)\n",
    "    min_value = 0\n",
    "    current_index = 0\n",
    "    for x in range(len(my_list)):\n",
    "        a = my_list[x]\n",
    "        if my_list[x] < max_value:\n",
    "            max_value = my_list[x]\n",
    "            current_index = x\n",
    "    min_value = max_value\n",
    "\n",
    "    sorted_list.append(min_value)\n",
    "    my_list.pop(current_index)\n",
    "\n",
    "print(sorted_list)\n"
   ],
   "metadata": {
    "collapsed": false
   }
  }
 ],
 "metadata": {
  "kernelspec": {
   "display_name": "Python 3",
   "language": "python",
   "name": "python3"
  },
  "language_info": {
   "codemirror_mode": {
    "name": "ipython",
    "version": 2
   },
   "file_extension": ".py",
   "mimetype": "text/x-python",
   "name": "python",
   "nbconvert_exporter": "python",
   "pygments_lexer": "ipython2",
   "version": "2.7.6"
  }
 },
 "nbformat": 4,
 "nbformat_minor": 0
}
