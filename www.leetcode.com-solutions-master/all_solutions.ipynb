{
 "cells": [
  {
   "cell_type": "code",
   "execution_count": 5,
   "metadata": {
    "collapsed": true
   },
   "outputs": [],
   "source": [
    "    # For submitting in www.leetcode.com use only the body of the function(not the name or the example)\n",
    "\n",
    "#258. Add Digits\n",
    "\n",
    "# def addDigits(num: int):\n",
    "#     while num > 9:\n",
    "#         new = [int(x) for x in str(num)]\n",
    "#         sum_list = sum(new)\n",
    "#         num = sum_list\n",
    "#\n",
    "#     return num\n",
    "#\n",
    "# a = addDigits(38)\n",
    "# print(a)"
   ]
  },
  {
   "cell_type": "code",
   "execution_count": 1,
   "outputs": [],
   "source": [
    "#235. Add Two Integers\n",
    "\n",
    "def sum(num1: int, num2: int):\n",
    "     return num1 + num2"
   ],
   "metadata": {
    "collapsed": false
   }
  },
  {
   "cell_type": "code",
   "execution_count": 2,
   "outputs": [],
   "source": [
    "#415. Add Strings\n",
    "class Solution:\n",
    "    def addStrings(self, num1: str, num2: str) -> str:\n",
    "        return str(int(num1) + int(num2))\n"
   ],
   "metadata": {
    "collapsed": false
   }
  },
  {
   "cell_type": "code",
   "execution_count": 11,
   "outputs": [
    {
     "name": "stdout",
     "output_type": "stream",
     "text": [
      "True\n"
     ]
    }
   ],
   "source": [
    "# 9. Palindrome Number\n",
    "def is_palindrome(x: int):\n",
    "    a = str(x)\n",
    "    b = a[::-1]\n",
    "    if a == b:\n",
    "        return True\n",
    "    return False\n",
    "\n",
    "\n",
    "a = is_palindrome(126621)\n",
    "print(a)"
   ],
   "metadata": {
    "collapsed": false
   }
  },
  {
   "cell_type": "code",
   "execution_count": 15,
   "outputs": [
    {
     "name": "stdout",
     "output_type": "stream",
     "text": [
      "2\n"
     ]
    }
   ],
   "source": [
    "# 27. Remove Element\n",
    "def removeElement(nums: list[int], val: int):\n",
    "    while val in nums:\n",
    "        nums.remove(val)\n",
    "    return len(nums)\n",
    "\n",
    "z = [3,2,2,3]\n",
    "a = removeElement(z, 3)\n",
    "print(a)"
   ],
   "metadata": {
    "collapsed": false
   }
  },
  {
   "cell_type": "code",
   "execution_count": 2,
   "outputs": [
    {
     "name": "stdout",
     "output_type": "stream",
     "text": [
      "\n",
      "fl\n"
     ]
    }
   ],
   "source": [
    "#14. Longest Common Prefix\n",
    "\n",
    "def longest_commonPrefix(strs: list[str]):\n",
    "    strs = sorted(strs, key=len)\n",
    "    to_compare = strs[0]\n",
    "    index_match = 0\n",
    "    missmatch = False\n",
    "\n",
    "    for index, value in enumerate(to_compare):\n",
    "        current_match = 0\n",
    "        for x in range(len(strs)):\n",
    "            a = strs[x][index]\n",
    "            if value != a:\n",
    "                missmatch = True\n",
    "                break\n",
    "            if missmatch:\n",
    "                break\n",
    "            current_match += 1\n",
    "        if current_match == len(strs):\n",
    "            index_match += 1\n",
    "\n",
    "    return to_compare[:index_match]\n",
    "\n",
    "\n",
    "a = longest_commonPrefix([\"flower\",\"flow\",\"flight\"])\n",
    "print(a)\n"
   ],
   "metadata": {
    "collapsed": false
   }
  },
  {
   "cell_type": "code",
   "execution_count": 3,
   "outputs": [
    {
     "name": "stdout",
     "output_type": "stream",
     "text": [
      "True\n"
     ]
    }
   ],
   "source": [
    "# 20. Valid Parentheses - NOT FULLL !!!!!!!\n",
    "def is_valid(s: str):\n",
    "    if \"(\" in s and \")\" in s:\n",
    "        s = s.replace(\"(\", '', 1)\n",
    "        s = s.replace(\")\", '', 1)\n",
    "\n",
    "    if \"[\" in s and \"]\" in s:\n",
    "        s = s.replace(\"[\", '', 1)\n",
    "        s = s.replace(\"]\", '', 1)\n",
    "\n",
    "    if \"{\" in s and \"}\" in s:\n",
    "        s = s.replace(\"{\", '', 1)\n",
    "        s = s.replace(\"}\", '', 1)\n",
    "\n",
    "    if len(s) == 0:\n",
    "        return True\n",
    "\n",
    "    return False\n",
    "\n",
    "\n",
    "a = \")(\"\n",
    "a = is_valid(a)\n",
    "print(a)"
   ],
   "metadata": {
    "collapsed": false
   }
  },
  {
   "cell_type": "code",
   "execution_count": 4,
   "outputs": [
    {
     "name": "stdout",
     "output_type": "stream",
     "text": [
      "-1\n"
     ]
    }
   ],
   "source": [
    "# 35. Search Insert Position\n",
    "def str_str(haystack: str, needle: str):\n",
    "    for index in range(0, len(haystack) - len(needle) + 1):\n",
    "        current = ''\n",
    "        for x in range(index, index + len(needle)):\n",
    "            current += haystack[x]\n",
    "        if current == needle:\n",
    "            return index\n",
    "    return -1\n",
    "\n",
    "\n",
    "haystack1 = \"asasutad\"\n",
    "needle1 = \"sad\"\n",
    "a = str_str(haystack1, needle1)\n",
    "print(a)\n"
   ],
   "metadata": {
    "collapsed": false
   }
  },
  {
   "cell_type": "code",
   "execution_count": 6,
   "outputs": [
    {
     "name": "stdout",
     "output_type": "stream",
     "text": [
      "4\n"
     ]
    }
   ],
   "source": [
    "# 58. Length of Last Word\n",
    "\n",
    "def searchInsert(nums: list[int], target: int):\n",
    "    for x in range(len(nums)):\n",
    "        if nums[x] == target:\n",
    "            return x\n",
    "\n",
    "    for x in range(len(nums)):\n",
    "        if x == 0 and target < nums[x]:\n",
    "            return x\n",
    "        if x == len(nums) - 1 and target > nums[x]:\n",
    "            return x + 1\n",
    "        if nums[x] < target < nums[x + 1]:\n",
    "            return x + 1\n",
    "\n",
    "\n",
    "nums = [1, 3, 5, 6]\n",
    "target = 7\n",
    "a = searchInsert(nums, target)\n",
    "print(a)"
   ],
   "metadata": {
    "collapsed": false
   }
  },
  {
   "cell_type": "code",
   "execution_count": 7,
   "outputs": [
    {
     "name": "stdout",
     "output_type": "stream",
     "text": [
      "6\n"
     ]
    }
   ],
   "source": [
    "# 66. Plus One\n",
    "\n",
    "def lengthOfLastWord(s: str):\n",
    "    list_of_words = s.split(' ')\n",
    "    new_list = [x for x in list_of_words if x != '']\n",
    "    new_list.reverse()\n",
    "    for word in new_list:\n",
    "        return len(word)\n",
    "\n",
    "\n",
    "s = \"luffy is still joyboy\"\n",
    "a = lengthOfLastWord(s)\n",
    "print(a)\n"
   ],
   "metadata": {
    "collapsed": false
   }
  },
  {
   "cell_type": "code",
   "execution_count": 9,
   "outputs": [
    {
     "name": "stdout",
     "output_type": "stream",
     "text": [
      "[4, 3, 2, 2]\n"
     ]
    }
   ],
   "source": [
    "# 66. Plus One\n",
    "\n",
    "def plus_one(digits):\n",
    "    digits = [str(x) for x in digits]\n",
    "    num = ''.join(digits)\n",
    "    new_str = str(int(num) + 1)\n",
    "    result = [int(x) for x in new_str]\n",
    "    return result\n",
    "\n",
    "\n",
    "a = [4,3,2,1]\n",
    "b = plus_one(a)\n",
    "print(b)\n"
   ],
   "metadata": {
    "collapsed": false
   }
  },
  {
   "cell_type": "code",
   "execution_count": 2,
   "outputs": [
    {
     "name": "stdout",
     "output_type": "stream",
     "text": [
      "['ad', 'ae', 'af', 'bd', 'be', 'bf', 'cd', 'ce', 'cf']\n"
     ]
    }
   ],
   "source": [
    "# unknown - page 13\n",
    "\n",
    "def letter_combinations(digits: str):\n",
    "    my_dict = {\n",
    "        '2': 'abc',\n",
    "        '3': 'def',\n",
    "        '4': 'ghi',\n",
    "        '5': 'jkl',\n",
    "        '6': 'mno',\n",
    "        '7': 'pqrs',\n",
    "        '8': 'tuv',\n",
    "        '9': 'wxyz',\n",
    "    }\n",
    "    split = [x for x in digits]\n",
    "    final = []\n",
    "\n",
    "    for sym in my_dict[digits[0]]:\n",
    "        for sym2 in my_dict[digits[1]]:\n",
    "            current = ''\n",
    "            current += sym\n",
    "            current += sym2\n",
    "            final.append(current)\n",
    "    return final\n",
    "\n",
    "\n",
    "a = \"23\"\n",
    "b = letter_combinations(a)\n",
    "print(b)\n"
   ],
   "metadata": {
    "collapsed": false
   }
  },
  {
   "cell_type": "code",
   "execution_count": 3,
   "outputs": [
    {
     "name": "stdout",
     "output_type": "stream",
     "text": [
      "7\n"
     ]
    }
   ],
   "source": [
    "# 2441. Largest Positive Integer That Exists With Its Negative\n",
    "\n",
    "def find_max_with_negative_one(nums: list):\n",
    "    num = -1\n",
    "    sorted_desc_list = sorted(nums)[:: -1]\n",
    "    for i in sorted_desc_list:\n",
    "        if i > 0 and - i in sorted_desc_list:\n",
    "            num = i\n",
    "            break\n",
    "    return num\n",
    "\n",
    "\n",
    "a = [-1,10,6,7,-7,1]\n",
    "b = find_max_with_negative_one(a)\n",
    "print(b)\n"
   ],
   "metadata": {
    "collapsed": false
   }
  },
  {
   "cell_type": "code",
   "execution_count": 4,
   "outputs": [
    {
     "name": "stdout",
     "output_type": "stream",
     "text": [
      "False\n"
     ]
    }
   ],
   "source": [
    "# # 2446. Determine if Two Events Have Conflict\n",
    "def have_conflict(event1: list, event2: list):\n",
    "    split1 = event1[0].split(\":\")\n",
    "    split2 = event1[1].split(\":\")\n",
    "    e1_start_in_secs = (int(split1[0]) * 60) + int(split1[1])\n",
    "    e1_end_in_secs = (int(split2[0]) * 60) + int(split2[1])\n",
    "\n",
    "    split1_1 = event2[0].split(\":\")\n",
    "    split2_2 = event2[1].split(\":\")\n",
    "    e2_start_in_secs = (int(split1_1[0]) * 60) + int(split1_1[1])\n",
    "    e2_end_in_secs = (int(split2_2[0]) * 60) + int(split2_2[1])\n",
    "\n",
    "    if e1_start_in_secs >= e2_start_in_secs:\n",
    "        if e2_end_in_secs >= e1_start_in_secs:\n",
    "            return True\n",
    "        else:\n",
    "            return False\n",
    "\n",
    "    if e1_end_in_secs >= e2_start_in_secs:\n",
    "        return True\n",
    "\n",
    "    return False\n",
    "\n",
    "\n",
    "event1 = [\"14:13\", \"22:08\"]\n",
    "event2 = [\"02:40\", \"08:08\"]\n",
    "a = have_conflict(event1, event2)\n",
    "print(a)"
   ],
   "metadata": {
    "collapsed": false
   }
  },
  {
   "cell_type": "code",
   "execution_count": 5,
   "outputs": [
    {
     "name": "stdout",
     "output_type": "stream",
     "text": [
      "Binary tree from list :\n",
      " \n",
      "    ___3\n",
      "   /    \\\n",
      "  6      8\n",
      " / \\      \\\n",
      "2   11     13\n",
      "\n",
      "\n",
      "List from binary tree : [3, 6, 8, 2, 11, None, 13]\n"
     ]
    }
   ],
   "source": [
    "# binary tree:\n",
    "\n",
    "# Creating binary tree\n",
    "# from given list\n",
    "from binarytree import build\n",
    "\n",
    "\n",
    "# List of nodes\n",
    "nodes =[3, 6, 8, 2, 11, None, 13]\n",
    "\n",
    "# Building the binary tree\n",
    "binary_tree = build(nodes)\n",
    "print('Binary tree from list :\\n',\n",
    "      binary_tree)\n",
    "\n",
    "# Getting list of nodes from\n",
    "# binarytree\n",
    "print('\\nList from binary tree :',\n",
    "      binary_tree.values)"
   ],
   "metadata": {
    "collapsed": false
   }
  },
  {
   "cell_type": "code",
   "execution_count": 6,
   "outputs": [
    {
     "name": "stdout",
     "output_type": "stream",
     "text": [
      "-1\n"
     ]
    }
   ],
   "source": [
    "# 997. Find the Town Judge\n",
    "\n",
    "def find_judge(n, trust):\n",
    "    judge = - 1\n",
    "    people_who_trust_to = [0 for x in range(n + 1)]\n",
    "    trusted = [0 for z in range(n + 1)]\n",
    "\n",
    "    for relationship in trust:\n",
    "        people_who_trust_to[relationship[0]] += 1\n",
    "        trusted[relationship[1]] += 1\n",
    "\n",
    "    for num in range(1, n + 1):\n",
    "        if people_who_trust_to[num] == 0 and trusted[num] == n - 1:\n",
    "            people_who_trust_to[0] = 100\n",
    "            judge = people_who_trust_to.index(0)\n",
    "    return judge\n",
    "\n",
    "\n",
    "n = 3\n",
    "trust = [[1, 3], [2, 3], [3, 1]]\n",
    "\n",
    "print(find_judge(n, trust))"
   ],
   "metadata": {
    "collapsed": false
   }
  },
  {
   "cell_type": "code",
   "execution_count": 2,
   "outputs": [
    {
     "data": {
      "text/plain": "7"
     },
     "execution_count": 2,
     "metadata": {},
     "output_type": "execute_result"
    }
   ],
   "source": [
    "4+2**5//10"
   ],
   "metadata": {
    "collapsed": false
   }
  },
  {
   "cell_type": "code",
   "execution_count": 4,
   "outputs": [
    {
     "data": {
      "text/plain": "'0b1000'"
     },
     "execution_count": 4,
     "metadata": {},
     "output_type": "execute_result"
    }
   ],
   "source": [
    "bin(0x8)"
   ],
   "metadata": {
    "collapsed": false
   }
  },
  {
   "cell_type": "code",
   "execution_count": 1,
   "outputs": [
    {
     "data": {
      "text/plain": "True"
     },
     "execution_count": 1,
     "metadata": {},
     "output_type": "execute_result"
    }
   ],
   "source": [
    "example=\"waterworld\"\n",
    "example[::-1].startswith(\"d\")"
   ],
   "metadata": {
    "collapsed": false
   }
  },
  {
   "cell_type": "code",
   "execution_count": null,
   "outputs": [],
   "source": [],
   "metadata": {
    "collapsed": false
   }
  },
  {
   "cell_type": "code",
   "execution_count": null,
   "outputs": [],
   "source": [
    "class User():\n",
    "    def __init__(self, name, age, gender):\n",
    "        self.name = name\n",
    "        self.age = age\n",
    "        self.gender = gender\n",
    "\n",
    "    def show_details(self):\n",
    "        print(f'Personal Details\\nName: {self.name}\\nAge: {self.age}\\nGender: {self.gender}')\n",
    "\n",
    "\n",
    "class UserFunctions(User):\n",
    "    def __init__(self, name, age, gender):\n",
    "        super().__init__(name, age, gender)\n",
    "        self.balance = 0\n",
    "\n",
    "\n",
    "    def deposit(self, amount):\n",
    "        self.balance += amount\n",
    "        print(f\"Account balance has been updated: $ {self.balance} available\")\n",
    "        return self.balance\n",
    "\n",
    "    def withdraw(self, amount):\n",
    "        if amount > self.balance:\n",
    "            print(f\"Unsufficient funds. Balance: ${self.balance} available\")\n",
    "        else:\n",
    "            self.balance -= amount\n",
    "            print(f\"Account balance after withdraw: $ {self.balance} available\")\n",
    "\n",
    "stan = UserFunctions(\"stan\",38, 'Male')\n",
    "stan.show_details()\n",
    "stan.deposit(45)\n",
    "stan.withdraw(40)\n",
    "\n",
    "\n"
   ],
   "metadata": {
    "collapsed": false
   }
  }
 ],
 "metadata": {
  "kernelspec": {
   "display_name": "Python 3",
   "language": "python",
   "name": "python3"
  },
  "language_info": {
   "codemirror_mode": {
    "name": "ipython",
    "version": 2
   },
   "file_extension": ".py",
   "mimetype": "text/x-python",
   "name": "python",
   "nbconvert_exporter": "python",
   "pygments_lexer": "ipython2",
   "version": "2.7.6"
  }
 },
 "nbformat": 4,
 "nbformat_minor": 0
}
